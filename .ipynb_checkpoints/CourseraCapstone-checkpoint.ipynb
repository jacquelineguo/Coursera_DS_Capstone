{
 "cells": [
  {
   "cell_type": "markdown",
   "metadata": {},
   "source": [
    "# Capstone Project for Coursera\n",
    "This notebook will be mainly used for capstone project of Coursera online certificate for **IBM Data Science Professional Ceritificate**."
   ]
  },
  {
   "cell_type": "markdown",
   "metadata": {},
   "source": [
    "## Table of contents\n",
    "* [Introduction: Business Problem](#introduction)\n",
    "* [Data](#data)\n",
    "* [Methodology](#methodology)\n",
    "* [Analysis](#analysis)\n",
    "* [Results and Discussion](#results)\n",
    "* [Conclusion](#conclusion)"
   ]
  },
  {
   "cell_type": "markdown",
   "metadata": {},
   "source": [
    "## Introduction: Business Problem <a name=\"introduction\"></a>"
   ]
  },
  {
   "cell_type": "markdown",
   "metadata": {},
   "source": [
    "This project is focus on starting a new restaurant business in Toronto area. By using **k-means clustering method** we can use venues information from Foursquare and filtering the most popular venues in each borough. According to the detail information we can choose the location for new restaurant business."
   ]
  },
  {
   "cell_type": "markdown",
   "metadata": {},
   "source": [
    "## Data <a name=\"data\"></a>"
   ]
  },
  {
   "cell_type": "markdown",
   "metadata": {},
   "source": [
    "The dataset for this capstone project consists of neighborhood information of Toronto obtained from Wikipedia website: [List of postal codes of Canada: M](https://en.wikipedia.org/wiki/List_of_postal_codes_of_Canada:_M). By using the BeautifulSoup package of Python, transforming the website data to pandas data frame which include postcode, borough, and neighborhood features. Then according to the transformed data frame obtained latitude and longitude by applying geopy package. Then using the latitude and longitude we can collect venues near each neighborhood for cluster analysis by using Foursquare API."
   ]
  },
  {
   "cell_type": "code",
   "execution_count": 99,
   "metadata": {},
   "outputs": [
    {
     "name": "stdout",
     "output_type": "stream",
     "text": [
      "Hello Capstone Project Course!\n"
     ]
    }
   ],
   "source": [
    "import pandas as pd\n",
    "import numpy as np\n",
    "pd.set_option('display.max_columns', None)\n",
    "pd.set_option('display.max_rows', None)\n",
    "print(\"Hello Capstone Project Course!\")"
   ]
  },
  {
   "cell_type": "markdown",
   "metadata": {},
   "source": [
    "### Import Libraries"
   ]
  },
  {
   "cell_type": "markdown",
   "metadata": {},
   "source": [
    "First import the libraries which will be used in this capstone project."
   ]
  },
  {
   "cell_type": "code",
   "execution_count": 100,
   "metadata": {},
   "outputs": [
    {
     "name": "stdout",
     "output_type": "stream",
     "text": [
      "Libraries imported.\n"
     ]
    }
   ],
   "source": [
    "import json\n",
    "\n",
    "# !conda install -c conda-forge geopy --yes\n",
    "from geopy.geocoders import Nominatim\n",
    "\n",
    "import requests\n",
    "from pandas.io.json import json_normalize\n",
    "\n",
    "import matplotlib.cm as cm\n",
    "\n",
    "from sklearn.cluster import KMeans\n",
    "\n",
    "# !conda install -c conda-forge folium=0.5.0 --yes\n",
    "import folium\n",
    "print('Libraries imported.')"
   ]
  },
  {
   "cell_type": "markdown",
   "metadata": {},
   "source": [
    "### Import Data"
   ]
  },
  {
   "cell_type": "markdown",
   "metadata": {},
   "source": [
    "Next, using **BeautifulSoup** to transform the data in the table on the Wikipedia page into pandas dataframe. At the same time, cleanning dataframe as the requirement stated."
   ]
  },
  {
   "cell_type": "code",
   "execution_count": 101,
   "metadata": {},
   "outputs": [],
   "source": [
    "from bs4 import BeautifulSoup\n",
    "\n",
    "with open('List of postal codes of Canada_ M - Wikipedia.html') as html_file:\n",
    "    soup = BeautifulSoup(html_file, 'lxml')\n"
   ]
  },
  {
   "cell_type": "code",
   "execution_count": 102,
   "metadata": {},
   "outputs": [
    {
     "data": {
      "text/html": [
       "<div>\n",
       "<style scoped>\n",
       "    .dataframe tbody tr th:only-of-type {\n",
       "        vertical-align: middle;\n",
       "    }\n",
       "\n",
       "    .dataframe tbody tr th {\n",
       "        vertical-align: top;\n",
       "    }\n",
       "\n",
       "    .dataframe thead th {\n",
       "        text-align: right;\n",
       "    }\n",
       "</style>\n",
       "<table border=\"1\" class=\"dataframe\">\n",
       "  <thead>\n",
       "    <tr style=\"text-align: right;\">\n",
       "      <th></th>\n",
       "      <th>Postcode</th>\n",
       "      <th>Borough</th>\n",
       "      <th>Neighbourhood</th>\n",
       "    </tr>\n",
       "  </thead>\n",
       "  <tbody>\n",
       "    <tr>\n",
       "      <th>0</th>\n",
       "      <td>M3A</td>\n",
       "      <td>North York</td>\n",
       "      <td>Parkwoods</td>\n",
       "    </tr>\n",
       "    <tr>\n",
       "      <th>1</th>\n",
       "      <td>M4A</td>\n",
       "      <td>North York</td>\n",
       "      <td>Victoria Village</td>\n",
       "    </tr>\n",
       "    <tr>\n",
       "      <th>2</th>\n",
       "      <td>M5A</td>\n",
       "      <td>Downtown Toronto</td>\n",
       "      <td>Regent Park, Harbourfront</td>\n",
       "    </tr>\n",
       "    <tr>\n",
       "      <th>3</th>\n",
       "      <td>M6A</td>\n",
       "      <td>North York</td>\n",
       "      <td>Lawrence Manor, Lawrence Heights</td>\n",
       "    </tr>\n",
       "    <tr>\n",
       "      <th>4</th>\n",
       "      <td>M7A</td>\n",
       "      <td>Queen's Park</td>\n",
       "      <td>Queen's Park</td>\n",
       "    </tr>\n",
       "  </tbody>\n",
       "</table>\n",
       "</div>"
      ],
      "text/plain": [
       "  Postcode           Borough                     Neighbourhood\n",
       "0      M3A        North York                         Parkwoods\n",
       "1      M4A        North York                  Victoria Village\n",
       "2      M5A  Downtown Toronto         Regent Park, Harbourfront\n",
       "3      M6A        North York  Lawrence Manor, Lawrence Heights\n",
       "4      M7A      Queen's Park                      Queen's Park"
      ]
     },
     "execution_count": 102,
     "metadata": {},
     "output_type": "execute_result"
    }
   ],
   "source": [
    "table = soup.find('table', class_='wikitable sortable')\n",
    "table_rows = table.find_all(\"tr\")\n",
    "table_columns = table.find_all(\"th\")\n",
    "l = []\n",
    "for tr in table_rows:\n",
    "    td = tr.find_all(\"td\")\n",
    "    row = [tr.text for tr in td]\n",
    "    if row and row[1] != 'Not assigned':\n",
    "        if row[2] == 'Not assigned\\n':\n",
    "            row[2] = row[1]\n",
    "        l.append(row)\n",
    "cols = [c.text.replace('\\n', '') for c in table_columns]\n",
    "df = pd.DataFrame(l, columns=cols).replace('\\n', '', regex=True)\n",
    "df = df.groupby(['Borough', 'Postcode'], sort=False).agg(lambda x: ', '.join(set(x.dropna()))).reset_index()\n",
    "df = df[cols].replace('\\n', '', regex=True)\n",
    "df.head()"
   ]
  },
  {
   "cell_type": "code",
   "execution_count": 103,
   "metadata": {},
   "outputs": [
    {
     "data": {
      "text/plain": [
       "(103, 3)"
      ]
     },
     "execution_count": 103,
     "metadata": {},
     "output_type": "execute_result"
    }
   ],
   "source": [
    "df.shape"
   ]
  },
  {
   "cell_type": "markdown",
   "metadata": {},
   "source": [
    "As the result of **shape** method, the size of this transformed table is **(103, 3)**."
   ]
  },
  {
   "cell_type": "markdown",
   "metadata": {},
   "source": [
    "Next step is add the **Latitude** and **Longitude** to the dataframe."
   ]
  },
  {
   "cell_type": "code",
   "execution_count": 104,
   "metadata": {},
   "outputs": [],
   "source": [
    "ll = pd.read_csv('Geospatial_Coordinates.csv')\n",
    "ll.columns = ['Postcode', 'Latitude', 'Longitude']\n",
    "cols = ['Postcode']\n",
    "df_withll = df.join(ll.set_index(cols), on=cols)"
   ]
  },
  {
   "cell_type": "markdown",
   "metadata": {},
   "source": [
    "### Use geopy library to get the latitude and longitude values of Toronto"
   ]
  },
  {
   "cell_type": "code",
   "execution_count": 105,
   "metadata": {},
   "outputs": [
    {
     "name": "stdout",
     "output_type": "stream",
     "text": [
      "The geograpical coordinate of Toronto are 43.653963, -79.387207.\n"
     ]
    }
   ],
   "source": [
    "address = 'Toronto, Ontario'\n",
    "\n",
    "geolocator = Nominatim(user_agent=\"ca_explorer\")\n",
    "location = geolocator.geocode(address)\n",
    "latitude = location.latitude\n",
    "longitude = location.longitude\n",
    "print('The geograpical coordinate of Toronto are {}, {}.'.format(latitude, longitude))"
   ]
  },
  {
   "cell_type": "markdown",
   "metadata": {},
   "source": [
    "### Create a map of Ontario with neighborhoods superimposed on top"
   ]
  },
  {
   "cell_type": "markdown",
   "metadata": {},
   "source": [
    "Create map of Toronto using latitude and longitude values, and then add markers to map"
   ]
  },
  {
   "cell_type": "code",
   "execution_count": 106,
   "metadata": {},
   "outputs": [
    {
     "data": {
      "text/html": [
       "<div style=\"width:100%;\"><div style=\"position:relative;width:100%;height:0;padding-bottom:60%;\"><iframe src=\"data:text/html;charset=utf-8;base64,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\" style=\"position:absolute;width:100%;height:100%;left:0;top:0;border:none !important;\" allowfullscreen webkitallowfullscreen mozallowfullscreen></iframe></div></div>"
      ],
      "text/plain": [
       "<folium.folium.Map at 0x1a2ab4c6d8>"
      ]
     },
     "execution_count": 106,
     "metadata": {},
     "output_type": "execute_result"
    }
   ],
   "source": [
    "\n",
    "map_toronto = folium.Map(location=[latitude, longitude], zoom_start=10)\n",
    "\n",
    "# add markers to map\n",
    "for lat, lng, borough, neighborhood in zip(df_withll['Latitude'], df_withll['Longitude'], df_withll['Borough'], df_withll['Neighbourhood']):\n",
    "    label = '{}, {}'.format(neighborhood, borough)\n",
    "    label = folium.Popup(label, parse_html=True)\n",
    "    folium.CircleMarker(\n",
    "        [lat, lng],\n",
    "        radius=5,\n",
    "        popup=label,\n",
    "        color='blue',\n",
    "        fill=True,\n",
    "        fill_color='#3186cc',\n",
    "        fill_opacity=0.7,\n",
    "        parse_html=False).add_to(map_toronto)  \n",
    "    \n",
    "map_toronto"
   ]
  },
  {
   "cell_type": "markdown",
   "metadata": {},
   "source": [
    "Then filtering the **Borough** by contains **Toronto**"
   ]
  },
  {
   "cell_type": "code",
   "execution_count": 107,
   "metadata": {},
   "outputs": [
    {
     "data": {
      "text/html": [
       "<div>\n",
       "<style scoped>\n",
       "    .dataframe tbody tr th:only-of-type {\n",
       "        vertical-align: middle;\n",
       "    }\n",
       "\n",
       "    .dataframe tbody tr th {\n",
       "        vertical-align: top;\n",
       "    }\n",
       "\n",
       "    .dataframe thead th {\n",
       "        text-align: right;\n",
       "    }\n",
       "</style>\n",
       "<table border=\"1\" class=\"dataframe\">\n",
       "  <thead>\n",
       "    <tr style=\"text-align: right;\">\n",
       "      <th></th>\n",
       "      <th>Postcode</th>\n",
       "      <th>Borough</th>\n",
       "      <th>Neighbourhood</th>\n",
       "      <th>Latitude</th>\n",
       "      <th>Longitude</th>\n",
       "    </tr>\n",
       "  </thead>\n",
       "  <tbody>\n",
       "    <tr>\n",
       "      <th>2</th>\n",
       "      <td>M5A</td>\n",
       "      <td>Downtown Toronto</td>\n",
       "      <td>Regent Park, Harbourfront</td>\n",
       "      <td>43.654260</td>\n",
       "      <td>-79.360636</td>\n",
       "    </tr>\n",
       "    <tr>\n",
       "      <th>9</th>\n",
       "      <td>M5B</td>\n",
       "      <td>Downtown Toronto</td>\n",
       "      <td>Garden District, Ryerson</td>\n",
       "      <td>43.657162</td>\n",
       "      <td>-79.378937</td>\n",
       "    </tr>\n",
       "    <tr>\n",
       "      <th>15</th>\n",
       "      <td>M5C</td>\n",
       "      <td>Downtown Toronto</td>\n",
       "      <td>St. James Town</td>\n",
       "      <td>43.651494</td>\n",
       "      <td>-79.375418</td>\n",
       "    </tr>\n",
       "    <tr>\n",
       "      <th>19</th>\n",
       "      <td>M4E</td>\n",
       "      <td>East Toronto</td>\n",
       "      <td>The Beaches</td>\n",
       "      <td>43.676357</td>\n",
       "      <td>-79.293031</td>\n",
       "    </tr>\n",
       "    <tr>\n",
       "      <th>20</th>\n",
       "      <td>M5E</td>\n",
       "      <td>Downtown Toronto</td>\n",
       "      <td>Berczy Park</td>\n",
       "      <td>43.644771</td>\n",
       "      <td>-79.373306</td>\n",
       "    </tr>\n",
       "  </tbody>\n",
       "</table>\n",
       "</div>"
      ],
      "text/plain": [
       "   Postcode           Borough              Neighbourhood   Latitude  Longitude\n",
       "2       M5A  Downtown Toronto  Regent Park, Harbourfront  43.654260 -79.360636\n",
       "9       M5B  Downtown Toronto   Garden District, Ryerson  43.657162 -79.378937\n",
       "15      M5C  Downtown Toronto             St. James Town  43.651494 -79.375418\n",
       "19      M4E      East Toronto                The Beaches  43.676357 -79.293031\n",
       "20      M5E  Downtown Toronto                Berczy Park  43.644771 -79.373306"
      ]
     },
     "execution_count": 107,
     "metadata": {},
     "output_type": "execute_result"
    }
   ],
   "source": [
    "df_tor = df_withll[df_withll['Borough'].str.contains(\"Toronto\")]\n",
    "df_tor.head()"
   ]
  },
  {
   "cell_type": "markdown",
   "metadata": {},
   "source": [
    "Creating map of Toronto using only Borough that contains Toronto."
   ]
  },
  {
   "cell_type": "code",
   "execution_count": 108,
   "metadata": {},
   "outputs": [
    {
     "data": {
      "text/html": [
       "<div style=\"width:100%;\"><div style=\"position:relative;width:100%;height:0;padding-bottom:60%;\"><iframe src=\"data:text/html;charset=utf-8;base64,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\" style=\"position:absolute;width:100%;height:100%;left:0;top:0;border:none !important;\" allowfullscreen webkitallowfullscreen mozallowfullscreen></iframe></div></div>"
      ],
      "text/plain": [
       "<folium.folium.Map at 0x1a2a7c34a8>"
      ]
     },
     "execution_count": 108,
     "metadata": {},
     "output_type": "execute_result"
    }
   ],
   "source": [
    "# create map of Toronto using latitude and longitude values\n",
    "map_toronto = folium.Map(location=[latitude, longitude], zoom_start=11)\n",
    "\n",
    "# add markers to map\n",
    "for lat, lng, label in zip(df_tor['Latitude'], df_tor['Longitude'], df_tor['Neighbourhood']):\n",
    "    label = folium.Popup(label, parse_html=True)\n",
    "    folium.CircleMarker(\n",
    "        [lat, lng],\n",
    "        radius=5,\n",
    "        popup=label,\n",
    "        color='blue',\n",
    "        fill=True,\n",
    "        fill_color='#3186cc',\n",
    "        fill_opacity=0.7,\n",
    "        parse_html=False).add_to(map_toronto)  \n",
    "    \n",
    "map_toronto"
   ]
  },
  {
   "cell_type": "markdown",
   "metadata": {},
   "source": [
    "Next, we are going to start utilizing the Foursquare API to explore the neighborhoods and segment them."
   ]
  },
  {
   "cell_type": "markdown",
   "metadata": {},
   "source": [
    "## Methodology <a name=\"methodology\"></a>"
   ]
  },
  {
   "cell_type": "markdown",
   "metadata": {},
   "source": [
    "1. Exploratory Data Analysis\n",
    "\n",
    "   Exploratory data analysis was used to analyze data sets to summarize their main    characteristics, and visual data sets.\n",
    "   \n",
    "   First, transforming online data table to Pandas data frame. Using Pandas command to eliminate missing values.\n",
    "   \n",
    "   Use Geopy package to obtain the latitude and longitude of Toronto, then mapping table point on Toronto area. Thus, we can visualize data point on map."
   ]
  },
  {
   "attachments": {},
   "cell_type": "markdown",
   "metadata": {},
   "source": [
    "2. Segmenting and Slicing, and dimensional reduction\n",
    "\n",
    "   Cluster analysis is the task of grouping a set of objects in an unsupervised way that objects in the same group, and more similar objects will be clustered in a same group."
   ]
  },
  {
   "cell_type": "markdown",
   "metadata": {},
   "source": [
    "### Define Foursquare Credentials and Version"
   ]
  },
  {
   "cell_type": "markdown",
   "metadata": {},
   "source": [
    "Next, we are going to start utilizing the Foursquare API to explore the neighborhoods and segment them."
   ]
  },
  {
   "cell_type": "code",
   "execution_count": 109,
   "metadata": {},
   "outputs": [
    {
     "name": "stdout",
     "output_type": "stream",
     "text": [
      "Your credentails:\n",
      "CLIENT_ID: M5NXRZI5KMSVEMTB1FHXAKUUXF5ODQFPRDMJQEZ053TRIV4W\n",
      "CLIENT_SECRET:HBRGKYXZTPLCSDZPS4HQEEGZFOTJ2LKL4N5XMURF0OW3URRB\n"
     ]
    }
   ],
   "source": [
    "CLIENT_ID = 'M5NXRZI5KMSVEMTB1FHXAKUUXF5ODQFPRDMJQEZ053TRIV4W' # your Foursquare ID\n",
    "CLIENT_SECRET = 'HBRGKYXZTPLCSDZPS4HQEEGZFOTJ2LKL4N5XMURF0OW3URRB' # your Foursquare Secret\n",
    "VERSION = '20180605' # Foursquare API version\n",
    "\n",
    "print('Your credentails:')\n",
    "print('CLIENT_ID: ' + CLIENT_ID)\n",
    "print('CLIENT_SECRET:' + CLIENT_SECRET)"
   ]
  },
  {
   "cell_type": "code",
   "execution_count": 110,
   "metadata": {},
   "outputs": [
    {
     "data": {
      "text/plain": [
       "'https://api.foursquare.com/v2/venues/explore?&client_id=M5NXRZI5KMSVEMTB1FHXAKUUXF5ODQFPRDMJQEZ053TRIV4W&client_secret=HBRGKYXZTPLCSDZPS4HQEEGZFOTJ2LKL4N5XMURF0OW3URRB&v=20180605&ll=43.653963,-79.387207&radius=500&limit=100'"
      ]
     },
     "execution_count": 110,
     "metadata": {},
     "output_type": "execute_result"
    }
   ],
   "source": [
    "LIMIT = 100\n",
    "radius = 500\n",
    "url = 'https://api.foursquare.com/v2/venues/explore?&client_id={}&client_secret={}&v={}&ll={},{}&radius={}&limit={}'.format(\n",
    "    CLIENT_ID, \n",
    "    CLIENT_SECRET, \n",
    "    VERSION, \n",
    "    latitude, \n",
    "    longitude, \n",
    "    radius, \n",
    "    LIMIT)\n",
    "url"
   ]
  },
  {
   "cell_type": "code",
   "execution_count": 111,
   "metadata": {},
   "outputs": [],
   "source": [
    "results = requests.get(url).json()"
   ]
  },
  {
   "cell_type": "code",
   "execution_count": 112,
   "metadata": {},
   "outputs": [],
   "source": [
    "# function that extracts the category of the venue\n",
    "def get_category_type(row):\n",
    "    try:\n",
    "        categories_list = row['categories']\n",
    "    except:\n",
    "        categories_list = row['venue.categories']\n",
    "        \n",
    "    if len(categories_list) == 0:\n",
    "        return None\n",
    "    else:\n",
    "        return categories_list[0]['name']"
   ]
  },
  {
   "cell_type": "code",
   "execution_count": 113,
   "metadata": {},
   "outputs": [
    {
     "data": {
      "text/html": [
       "<div>\n",
       "<style scoped>\n",
       "    .dataframe tbody tr th:only-of-type {\n",
       "        vertical-align: middle;\n",
       "    }\n",
       "\n",
       "    .dataframe tbody tr th {\n",
       "        vertical-align: top;\n",
       "    }\n",
       "\n",
       "    .dataframe thead th {\n",
       "        text-align: right;\n",
       "    }\n",
       "</style>\n",
       "<table border=\"1\" class=\"dataframe\">\n",
       "  <thead>\n",
       "    <tr style=\"text-align: right;\">\n",
       "      <th></th>\n",
       "      <th>name</th>\n",
       "      <th>categories</th>\n",
       "      <th>lat</th>\n",
       "      <th>lng</th>\n",
       "    </tr>\n",
       "  </thead>\n",
       "  <tbody>\n",
       "    <tr>\n",
       "      <th>0</th>\n",
       "      <td>Downtown Toronto</td>\n",
       "      <td>Neighborhood</td>\n",
       "      <td>43.653232</td>\n",
       "      <td>-79.385296</td>\n",
       "    </tr>\n",
       "    <tr>\n",
       "      <th>1</th>\n",
       "      <td>Japango</td>\n",
       "      <td>Sushi Restaurant</td>\n",
       "      <td>43.655268</td>\n",
       "      <td>-79.385165</td>\n",
       "    </tr>\n",
       "    <tr>\n",
       "      <th>2</th>\n",
       "      <td>Textile Museum of Canada</td>\n",
       "      <td>Art Museum</td>\n",
       "      <td>43.654396</td>\n",
       "      <td>-79.386500</td>\n",
       "    </tr>\n",
       "    <tr>\n",
       "      <th>3</th>\n",
       "      <td>Poke Guys</td>\n",
       "      <td>Poke Place</td>\n",
       "      <td>43.654895</td>\n",
       "      <td>-79.385052</td>\n",
       "    </tr>\n",
       "    <tr>\n",
       "      <th>4</th>\n",
       "      <td>Sansotei Ramen 三草亭</td>\n",
       "      <td>Ramen Restaurant</td>\n",
       "      <td>43.655157</td>\n",
       "      <td>-79.386501</td>\n",
       "    </tr>\n",
       "  </tbody>\n",
       "</table>\n",
       "</div>"
      ],
      "text/plain": [
       "                       name        categories        lat        lng\n",
       "0          Downtown Toronto      Neighborhood  43.653232 -79.385296\n",
       "1                   Japango  Sushi Restaurant  43.655268 -79.385165\n",
       "2  Textile Museum of Canada        Art Museum  43.654396 -79.386500\n",
       "3                 Poke Guys        Poke Place  43.654895 -79.385052\n",
       "4        Sansotei Ramen 三草亭  Ramen Restaurant  43.655157 -79.386501"
      ]
     },
     "execution_count": 113,
     "metadata": {},
     "output_type": "execute_result"
    }
   ],
   "source": [
    "venues = results['response']['groups'][0]['items']\n",
    "    \n",
    "nearby_venues = json_normalize(venues) # flatten JSON\n",
    "\n",
    "# filter columns\n",
    "filtered_columns = ['venue.name', 'venue.categories', 'venue.location.lat', 'venue.location.lng']\n",
    "nearby_venues =nearby_venues.loc[:, filtered_columns]\n",
    "\n",
    "# filter the category for each row\n",
    "nearby_venues['venue.categories'] = nearby_venues.apply(get_category_type, axis=1)\n",
    "\n",
    "# clean columns\n",
    "nearby_venues.columns = [col.split(\".\")[-1] for col in nearby_venues.columns]\n",
    "\n",
    "nearby_venues.head(5)"
   ]
  },
  {
   "cell_type": "code",
   "execution_count": 114,
   "metadata": {},
   "outputs": [
    {
     "name": "stdout",
     "output_type": "stream",
     "text": [
      "72 venues were returned by Foursquare.\n"
     ]
    }
   ],
   "source": [
    "print('{} venues were returned by Foursquare.'.format(nearby_venues.shape[0]))"
   ]
  },
  {
   "cell_type": "markdown",
   "metadata": {},
   "source": [
    "Then explore neighborhoods in Toronto"
   ]
  },
  {
   "cell_type": "code",
   "execution_count": 115,
   "metadata": {},
   "outputs": [],
   "source": [
    "def getNearbyVenues(names, latitudes, longitudes, radius=500):\n",
    "    \n",
    "    venues_list=[]\n",
    "    for name, lat, lng in zip(names, latitudes, longitudes):\n",
    "        print(name)\n",
    "            \n",
    "        # create the API request URL\n",
    "        url = 'https://api.foursquare.com/v2/venues/explore?&client_id={}&client_secret={}&v={}&ll={},{}&radius={}&limit={}'.format(\n",
    "            CLIENT_ID, \n",
    "            CLIENT_SECRET, \n",
    "            VERSION, \n",
    "            lat, \n",
    "            lng, \n",
    "            radius, \n",
    "            LIMIT)\n",
    "            \n",
    "        # make the GET request\n",
    "        results = requests.get(url).json()[\"response\"]['groups'][0]['items']\n",
    "        \n",
    "        # return only relevant information for each nearby venue\n",
    "        venues_list.append([(\n",
    "            name, \n",
    "            lat, \n",
    "            lng, \n",
    "            v['venue']['name'], \n",
    "            v['venue']['location']['lat'], \n",
    "            v['venue']['location']['lng'],  \n",
    "            v['venue']['categories'][0]['name']) for v in results])\n",
    "\n",
    "    nearby_venues = pd.DataFrame([item for venue_list in venues_list for item in venue_list])\n",
    "    nearby_venues.columns = ['Neighborhood', \n",
    "                  'Neighborhood Latitude', \n",
    "                  'Neighborhood Longitude', \n",
    "                  'Venue', \n",
    "                  'Venue Latitude', \n",
    "                  'Venue Longitude', \n",
    "                  'Venue Category']\n",
    "    \n",
    "    return(nearby_venues)"
   ]
  },
  {
   "cell_type": "code",
   "execution_count": 116,
   "metadata": {},
   "outputs": [
    {
     "name": "stdout",
     "output_type": "stream",
     "text": [
      "Regent Park, Harbourfront\n",
      "Garden District, Ryerson\n",
      "St. James Town\n",
      "The Beaches\n",
      "Berczy Park\n",
      "Central Bay Street\n",
      "Christie\n",
      "Adelaide, Richmond, King\n",
      "Dufferin, Dovercourt Village\n",
      "Union Station, Toronto Islands, Harbourfront East\n",
      "Trinity, Little Portugal\n",
      "Riverdale, The Danforth West\n",
      "Toronto Dominion Centre, Design Exchange\n",
      "Parkdale Village, Exhibition Place, Brockton\n",
      "The Beaches West, India Bazaar\n",
      "Commerce Court, Victoria Hotel\n",
      "Studio District\n",
      "Lawrence Park\n",
      "Roselawn\n",
      "Davisville North\n",
      "Forest Hill West, Forest Hill North\n",
      "The Junction South, High Park\n",
      "North Toronto West\n",
      "North Midtown, Yorkville, The Annex\n",
      "Parkdale, Roncesvalles\n",
      "Davisville\n"
     ]
    },
    {
     "ename": "KeyError",
     "evalue": "'groups'",
     "output_type": "error",
     "traceback": [
      "\u001b[0;31m---------------------------------------------------------------------------\u001b[0m",
      "\u001b[0;31mKeyError\u001b[0m                                  Traceback (most recent call last)",
      "\u001b[0;32m<ipython-input-116-e84401108e25>\u001b[0m in \u001b[0;36m<module>\u001b[0;34m\u001b[0m\n\u001b[1;32m      1\u001b[0m toronto_venues = getNearbyVenues(names=df_tor['Neighbourhood'],\n\u001b[1;32m      2\u001b[0m                                    \u001b[0mlatitudes\u001b[0m\u001b[0;34m=\u001b[0m\u001b[0mdf_tor\u001b[0m\u001b[0;34m[\u001b[0m\u001b[0;34m'Latitude'\u001b[0m\u001b[0;34m]\u001b[0m\u001b[0;34m,\u001b[0m\u001b[0;34m\u001b[0m\u001b[0;34m\u001b[0m\u001b[0m\n\u001b[0;32m----> 3\u001b[0;31m                                    \u001b[0mlongitudes\u001b[0m\u001b[0;34m=\u001b[0m\u001b[0mdf_tor\u001b[0m\u001b[0;34m[\u001b[0m\u001b[0;34m'Longitude'\u001b[0m\u001b[0;34m]\u001b[0m\u001b[0;34m\u001b[0m\u001b[0;34m\u001b[0m\u001b[0m\n\u001b[0m\u001b[1;32m      4\u001b[0m                                   )\n\u001b[1;32m      5\u001b[0m \u001b[0;34m\u001b[0m\u001b[0m\n",
      "\u001b[0;32m<ipython-input-115-8c9a08363335>\u001b[0m in \u001b[0;36mgetNearbyVenues\u001b[0;34m(names, latitudes, longitudes, radius)\u001b[0m\n\u001b[1;32m     16\u001b[0m \u001b[0;34m\u001b[0m\u001b[0m\n\u001b[1;32m     17\u001b[0m         \u001b[0;31m# make the GET request\u001b[0m\u001b[0;34m\u001b[0m\u001b[0;34m\u001b[0m\u001b[0;34m\u001b[0m\u001b[0m\n\u001b[0;32m---> 18\u001b[0;31m         \u001b[0mresults\u001b[0m \u001b[0;34m=\u001b[0m \u001b[0mrequests\u001b[0m\u001b[0;34m.\u001b[0m\u001b[0mget\u001b[0m\u001b[0;34m(\u001b[0m\u001b[0murl\u001b[0m\u001b[0;34m)\u001b[0m\u001b[0;34m.\u001b[0m\u001b[0mjson\u001b[0m\u001b[0;34m(\u001b[0m\u001b[0;34m)\u001b[0m\u001b[0;34m[\u001b[0m\u001b[0;34m\"response\"\u001b[0m\u001b[0;34m]\u001b[0m\u001b[0;34m[\u001b[0m\u001b[0;34m'groups'\u001b[0m\u001b[0;34m]\u001b[0m\u001b[0;34m[\u001b[0m\u001b[0;36m0\u001b[0m\u001b[0;34m]\u001b[0m\u001b[0;34m[\u001b[0m\u001b[0;34m'items'\u001b[0m\u001b[0;34m]\u001b[0m\u001b[0;34m\u001b[0m\u001b[0;34m\u001b[0m\u001b[0m\n\u001b[0m\u001b[1;32m     19\u001b[0m \u001b[0;34m\u001b[0m\u001b[0m\n\u001b[1;32m     20\u001b[0m         \u001b[0;31m# return only relevant information for each nearby venue\u001b[0m\u001b[0;34m\u001b[0m\u001b[0;34m\u001b[0m\u001b[0;34m\u001b[0m\u001b[0m\n",
      "\u001b[0;31mKeyError\u001b[0m: 'groups'"
     ]
    }
   ],
   "source": [
    "toronto_venues = getNearbyVenues(names=df_tor['Neighbourhood'],\n",
    "                                   latitudes=df_tor['Latitude'],\n",
    "                                   longitudes=df_tor['Longitude']\n",
    "                                  )\n",
    "\n"
   ]
  },
  {
   "cell_type": "markdown",
   "metadata": {},
   "source": [
    "#### See the size of toronto_venues dataframe"
   ]
  },
  {
   "cell_type": "code",
   "execution_count": null,
   "metadata": {},
   "outputs": [],
   "source": [
    "print(toronto_venues.shape)\n",
    "toronto_venues.head()"
   ]
  },
  {
   "cell_type": "code",
   "execution_count": null,
   "metadata": {
    "scrolled": true
   },
   "outputs": [],
   "source": [
    "toronto_venues.groupby('Neighborhood').count().head()"
   ]
  },
  {
   "cell_type": "code",
   "execution_count": null,
   "metadata": {},
   "outputs": [],
   "source": [
    "print('There are {} uniques categories.'.format(len(toronto_venues['Venue Category'].unique())))"
   ]
  },
  {
   "cell_type": "markdown",
   "metadata": {},
   "source": [
    "There are 235 uniques categories can be curated from all the returned venues. Then we analyze each neigborhood."
   ]
  },
  {
   "cell_type": "code",
   "execution_count": null,
   "metadata": {},
   "outputs": [],
   "source": [
    "# one hot encoding\n",
    "toronto_onehot = pd.get_dummies(toronto_venues[['Venue Category']], prefix=\"\", prefix_sep=\"\")\n",
    "\n",
    "# add neighborhood column back to dataframe\n",
    "toronto_onehot['Neighborhood'] = toronto_venues['Neighborhood'] \n",
    "\n",
    "# move neighborhood column to the first column\n",
    "fixed_columns = [toronto_onehot.columns[-1]] + list(toronto_onehot.columns[:-1])\n",
    "toronto_onehot = toronto_onehot[fixed_columns]\n",
    "\n",
    "toronto_onehot.head()"
   ]
  },
  {
   "cell_type": "code",
   "execution_count": null,
   "metadata": {},
   "outputs": [],
   "source": [
    "def column_index(df, query_cols):\n",
    "    cols = df.columns.values\n",
    "    sidx = np.argsort(cols)\n",
    "    return sidx[np.searchsorted(cols,query_cols,sorter=sidx)]"
   ]
  },
  {
   "cell_type": "code",
   "execution_count": null,
   "metadata": {},
   "outputs": [],
   "source": [
    "column_index(toronto_onehot,['Neighborhood'])"
   ]
  },
  {
   "cell_type": "code",
   "execution_count": null,
   "metadata": {
    "scrolled": false
   },
   "outputs": [],
   "source": [
    "toronto_onehot = toronto_onehot.set_index('Neighborhood').reset_index()"
   ]
  },
  {
   "cell_type": "code",
   "execution_count": null,
   "metadata": {
    "scrolled": true
   },
   "outputs": [],
   "source": [
    "toronto_onehot.head()"
   ]
  },
  {
   "cell_type": "code",
   "execution_count": null,
   "metadata": {},
   "outputs": [],
   "source": [
    "toronto_onehot.shape"
   ]
  },
  {
   "cell_type": "markdown",
   "metadata": {},
   "source": [
    "#### Next, group rows by neighborhood and by taking the mean of the frequency of occurrence of each category "
   ]
  },
  {
   "cell_type": "code",
   "execution_count": null,
   "metadata": {},
   "outputs": [],
   "source": [
    "toronto_grouped = toronto_onehot.groupby('Neighborhood').mean().reset_index()\n",
    "toronto_grouped.head()"
   ]
  },
  {
   "cell_type": "code",
   "execution_count": null,
   "metadata": {},
   "outputs": [],
   "source": [
    "toronto_grouped.shape"
   ]
  },
  {
   "cell_type": "markdown",
   "metadata": {},
   "source": [
    "#### Print each neighborhood along with the top 5 most common venues"
   ]
  },
  {
   "cell_type": "code",
   "execution_count": null,
   "metadata": {},
   "outputs": [],
   "source": [
    "num_top_venues = 5\n",
    "\n",
    "for hood in toronto_grouped['Neighborhood']:\n",
    "    print(\"----\"+hood+\"----\")\n",
    "    temp = toronto_grouped[toronto_grouped['Neighborhood'] == hood].T.reset_index()\n",
    "    temp.columns = ['venue','freq']\n",
    "    temp = temp.iloc[1:]\n",
    "    temp['freq'] = temp['freq'].astype(float)\n",
    "    temp = temp.round({'freq': 2})\n",
    "    print(temp.sort_values('freq', ascending=False).reset_index(drop=True).head(num_top_venues))\n",
    "    print('\\n')"
   ]
  },
  {
   "cell_type": "code",
   "execution_count": null,
   "metadata": {},
   "outputs": [],
   "source": [
    "def return_most_common_venues(row, num_top_venues):\n",
    "    row_categories = row.iloc[1:]\n",
    "    row_categories_sorted = row_categories.sort_values(ascending=False)\n",
    "    \n",
    "    return row_categories_sorted.index.values[0:num_top_venues]"
   ]
  },
  {
   "cell_type": "code",
   "execution_count": null,
   "metadata": {
    "scrolled": true
   },
   "outputs": [],
   "source": [
    "num_top_venues = 10\n",
    "\n",
    "indicators = ['st', 'nd', 'rd']\n",
    "\n",
    "# create columns according to number of top venues\n",
    "columns = ['Neighborhood']\n",
    "for ind in np.arange(num_top_venues):\n",
    "    try:\n",
    "        columns.append('{}{} Most Common Venue'.format(ind+1, indicators[ind]))\n",
    "    except:\n",
    "        columns.append('{}th Most Common Venue'.format(ind+1))\n",
    "\n",
    "# create a new dataframe\n",
    "neighborhoods_venues_sorted = pd.DataFrame(columns=columns)\n",
    "neighborhoods_venues_sorted['Neighborhood'] = toronto_grouped['Neighborhood']\n",
    "\n",
    "for ind in np.arange(toronto_grouped.shape[0]):\n",
    "    neighborhoods_venues_sorted.iloc[ind, 1:] = return_most_common_venues(toronto_grouped.iloc[ind, :], num_top_venues)\n",
    "\n",
    "neighborhoods_venues_sorted.head()"
   ]
  },
  {
   "cell_type": "markdown",
   "metadata": {},
   "source": [
    "#### Using both Tsne and PCA to reduce data dimension for better kmeans clustering"
   ]
  },
  {
   "cell_type": "code",
   "execution_count": null,
   "metadata": {},
   "outputs": [],
   "source": [
    "from sklearn.manifold import TSNE\n",
    "from sklearn.decomposition import SparsePCA\n",
    "from sklearn.decomposition import PCA\n",
    "\n",
    "\n",
    "toronto_grouped_clustering = np.array(toronto_grouped.drop('Neighborhood', 1))\n",
    "# X_embedded = TSNE(n_components=25, method=\"exact\").fit_transform(toronto_grouped_clustering)\n",
    "X_embedded = PCA(n_components=4).fit_transform(toronto_grouped_clustering)\n",
    "X_embedded.shape"
   ]
  },
  {
   "attachments": {},
   "cell_type": "markdown",
   "metadata": {},
   "source": [
    "3. Use both Tsne and PCA to reduce data dimension\n",
    "\n",
    "   For this step, since k-means is a search strategy to minimize the squared Euclidean distance, and Euclidean distance is not a good metric in high dimensions. Thus, I decided to reduce the dimension of each feature and apply a better k-means clustering. "
   ]
  },
  {
   "cell_type": "markdown",
   "metadata": {},
   "source": [
    "#### Selecting the number of clusters with silhouette analysis on KMeans clustering\n",
    "- As the silhouette score shows, the prefered k is 5."
   ]
  },
  {
   "cell_type": "code",
   "execution_count": null,
   "metadata": {
    "scrolled": false
   },
   "outputs": [],
   "source": [
    "from sklearn.metrics import silhouette_samples, silhouette_score\n",
    "\n",
    "import matplotlib.pyplot as plt\n",
    "import matplotlib.cm as cm\n",
    "range_n_clusters = [4, 5, 6, 7, 8, 9, 10, 11, 12, 13, 14, 15, 16, 17, 18, 19, 20]\n",
    "\n",
    "for n_clusters in range_n_clusters:\n",
    "    # Create a subplot with 1 row and 2 columns\n",
    "    fig, (ax1, ax2) = plt.subplots(1, 2)\n",
    "    fig.set_size_inches(18, 7)\n",
    "\n",
    "    # The 1st subplot is the silhouette plot\n",
    "    # The silhouette coefficient can range from -1, 1 but in this example all\n",
    "    # lie within [-0.1, 1]\n",
    "    ax1.set_xlim([-0.1, 1])\n",
    "    # The (n_clusters+1)*10 is for inserting blank space between silhouette\n",
    "    # plots of individual clusters, to demarcate them clearly.\n",
    "    ax1.set_ylim([0, len(X_embedded) + (n_clusters + 1) * 10])\n",
    "\n",
    "    # Initialize the clusterer with n_clusters value and a random generator\n",
    "    # seed of 10 for reproducibility.\n",
    "    clusterer = KMeans(n_clusters=n_clusters, random_state=0, algorithm=\"full\")\n",
    "    cluster_labels = clusterer.fit_predict(X_embedded)\n",
    "\n",
    "    # The silhouette_score gives the average value for all the samples.\n",
    "    # This gives a perspective into the density and separation of the formed\n",
    "    # clusters\n",
    "    silhouette_avg = silhouette_score(X_embedded, cluster_labels)\n",
    "    print(\"For n_clusters =\", n_clusters,\n",
    "          \"The average silhouette_score is :\", silhouette_avg)\n",
    "\n",
    "    # Compute the silhouette scores for each sample\n",
    "    sample_silhouette_values = silhouette_samples(X_embedded, cluster_labels)\n",
    "\n",
    "    y_lower = 10\n",
    "    for i in range(n_clusters):\n",
    "        # Aggregate the silhouette scores for samples belonging to\n",
    "        # cluster i, and sort them\n",
    "        ith_cluster_silhouette_values = sample_silhouette_values[cluster_labels == i]\n",
    "\n",
    "        ith_cluster_silhouette_values.sort()\n",
    "\n",
    "        size_cluster_i = ith_cluster_silhouette_values.shape[0]\n",
    "        y_upper = y_lower + size_cluster_i\n",
    "\n",
    "        color = cm.nipy_spectral(float(i) / n_clusters)\n",
    "        ax1.fill_betweenx(np.arange(y_lower, y_upper),\n",
    "                          0, ith_cluster_silhouette_values,\n",
    "                          facecolor=color, edgecolor=color, alpha=0.7)\n",
    "\n",
    "        # Label the silhouette plots with their cluster numbers at the middle\n",
    "        ax1.text(-0.05, y_lower + 0.5 * size_cluster_i, str(i))\n",
    "\n",
    "        # Compute the new y_lower for next plot\n",
    "        y_lower = y_upper + 10  # 10 for the 0 samples\n",
    "\n",
    "    ax1.set_title(\"The silhouette plot for the various clusters.\")\n",
    "    ax1.set_xlabel(\"The silhouette coefficient values\")\n",
    "    ax1.set_ylabel(\"Cluster label\")\n",
    "\n",
    "    # The vertical line for average silhouette score of all the values\n",
    "    ax1.axvline(x=silhouette_avg, color=\"red\", linestyle=\"--\")\n",
    "\n",
    "    ax1.set_yticks([])  # Clear the yaxis labels / ticks\n",
    "    ax1.set_xticks([-0.1, 0, 0.2, 0.4, 0.6, 0.8, 1])\n",
    "\n",
    "    # 2nd Plot showing the actual clusters formed\n",
    "    colors = cm.nipy_spectral(cluster_labels.astype(float) / n_clusters)\n",
    "    ax2.scatter(X_embedded[:, 0], X_embedded[:, 1], marker='.', s=30, lw=0, alpha=0.7,\n",
    "                c=colors, edgecolor='k')\n",
    "\n",
    "    # Labeling the clusters\n",
    "    centers = clusterer.cluster_centers_\n",
    "    # Draw white circles at cluster centers\n",
    "    ax2.scatter(centers[:, 0], centers[:, 1], marker='o',\n",
    "                c=\"white\", alpha=1, s=200, edgecolor='k')\n",
    "\n",
    "    for i, c in enumerate(centers):\n",
    "        ax2.scatter(c[0], c[1], marker='$%d$' % i, alpha=1,\n",
    "                    s=50, edgecolor='k')\n",
    "\n",
    "    ax2.set_title(\"The visualization of the clustered data.\")\n",
    "    ax2.set_xlabel(\"Feature space for the 1st feature\")\n",
    "    ax2.set_ylabel(\"Feature space for the 2nd feature\")\n",
    "\n",
    "\n",
    "plt.show()"
   ]
  },
  {
   "cell_type": "markdown",
   "metadata": {},
   "source": [
    "4. Neighborhood Exploration and Clustering\n",
    "\n",
    "   run *k*-means to cluster the neighborhood into 5 clusters."
   ]
  },
  {
   "cell_type": "code",
   "execution_count": null,
   "metadata": {},
   "outputs": [],
   "source": [
    "# set number of clusters\n",
    "kclusters = 5\n",
    "\n",
    "# run k-means clustering\n",
    "kmeans = KMeans(n_clusters=kclusters, random_state=10, algorithm=\"full\").fit(X_embedded)\n",
    "\n",
    "# check cluster labels generated for each row in the dataframe\n",
    "kmeans.labels_"
   ]
  },
  {
   "cell_type": "code",
   "execution_count": null,
   "metadata": {},
   "outputs": [],
   "source": [
    "neighborhoods_venues_sorted.set_index('Neighborhood').reset_index().rename(columns={'Neighborhood': 'Neighbourhood'}).head()"
   ]
  },
  {
   "cell_type": "code",
   "execution_count": null,
   "metadata": {
    "scrolled": true
   },
   "outputs": [],
   "source": [
    "# add clustering labels\n",
    "try:\n",
    "    neighborhoods_venues_sorted.insert(0, 'Cluster Labels', kmeans.labels_)\n",
    "except:\n",
    "    pass\n",
    "\n",
    "neighborhoods_venues_sorted['Cluster Labels'] = kmeans.labels_\n",
    "\n",
    "toronto_merged = df_tor\n",
    "\n",
    "# merge toronto_grouped with toronto_data to add latitude/longitude for each neighborhood\n",
    "toronto_merged = toronto_merged.join(neighborhoods_venues_sorted.set_index('Neighborhood'), on='Neighbourhood')\n",
    "\n",
    "toronto_merged.head() # check the last columns!"
   ]
  },
  {
   "cell_type": "markdown",
   "metadata": {},
   "source": [
    "#### Visualize resulting clustering"
   ]
  },
  {
   "cell_type": "code",
   "execution_count": null,
   "metadata": {},
   "outputs": [],
   "source": [
    "import matplotlib.colors as colors\n",
    "\n",
    "\n",
    "# create map\n",
    "map_clusters = folium.Map(location=[latitude, longitude], zoom_start=11)\n",
    "\n",
    "# set color scheme for the clusters\n",
    "x = np.arange(kclusters)\n",
    "ys = [i + x + (i*x)**2 for i in range(kclusters)]\n",
    "colors_array = cm.rainbow(np.linspace(0, 1, len(ys)))\n",
    "rainbow = [colors.rgb2hex(i) for i in colors_array]\n",
    "\n",
    "# add markers to the map\n",
    "markers_colors = []\n",
    "for lat, lon, poi, cluster in zip(toronto_merged['Latitude'], toronto_merged['Longitude'], toronto_merged['Neighbourhood'], toronto_merged['Cluster Labels']):\n",
    "    label = folium.Popup(str(poi) + ' Cluster ' + str(cluster), parse_html=True)\n",
    "    folium.CircleMarker(\n",
    "        [lat, lon],\n",
    "        radius=5,\n",
    "        popup=label,\n",
    "        color=rainbow[cluster-1],\n",
    "        fill=True,\n",
    "        fill_color=rainbow[cluster-1],\n",
    "        fill_opacity=0.7).add_to(map_clusters)\n",
    "       \n",
    "map_clusters"
   ]
  },
  {
   "cell_type": "markdown",
   "metadata": {},
   "source": [
    "#### Clustering 1"
   ]
  },
  {
   "cell_type": "code",
   "execution_count": null,
   "metadata": {},
   "outputs": [],
   "source": [
    "clusteringone = toronto_merged.loc[toronto_merged['Cluster Labels'] == 0, toronto_merged.columns[[1] + list(range(5, toronto_merged.shape[1]))]]"
   ]
  },
  {
   "cell_type": "code",
   "execution_count": null,
   "metadata": {},
   "outputs": [],
   "source": [
    "clusteringone[clusteringone.columns[:5]]"
   ]
  },
  {
   "cell_type": "markdown",
   "metadata": {},
   "source": [
    "#### Clustering 2"
   ]
  },
  {
   "cell_type": "code",
   "execution_count": null,
   "metadata": {},
   "outputs": [],
   "source": [
    "cluster2 = toronto_merged.loc[toronto_merged['Cluster Labels'] == 1, toronto_merged.columns[[1] + list(range(5, toronto_merged.shape[1]))]]"
   ]
  },
  {
   "cell_type": "code",
   "execution_count": null,
   "metadata": {},
   "outputs": [],
   "source": [
    "cluster2[cluster2.columns[:5]]"
   ]
  },
  {
   "cell_type": "markdown",
   "metadata": {},
   "source": [
    "#### Clustering 3"
   ]
  },
  {
   "cell_type": "code",
   "execution_count": null,
   "metadata": {},
   "outputs": [],
   "source": [
    "cluster3 = toronto_merged.loc[toronto_merged['Cluster Labels'] == 2, toronto_merged.columns[[1] + list(range(5, toronto_merged.shape[1]))]]"
   ]
  },
  {
   "cell_type": "code",
   "execution_count": null,
   "metadata": {},
   "outputs": [],
   "source": [
    "cluster3[cluster3.columns[:5]]"
   ]
  },
  {
   "cell_type": "markdown",
   "metadata": {},
   "source": [
    "#### Clustering 4"
   ]
  },
  {
   "cell_type": "code",
   "execution_count": null,
   "metadata": {},
   "outputs": [],
   "source": [
    "cluster4 = toronto_merged.loc[toronto_merged['Cluster Labels'] == 3, toronto_merged.columns[[1] + list(range(5, toronto_merged.shape[1]))]]"
   ]
  },
  {
   "cell_type": "code",
   "execution_count": null,
   "metadata": {},
   "outputs": [],
   "source": [
    "cluster4[cluster4.columns[:5]]"
   ]
  },
  {
   "cell_type": "markdown",
   "metadata": {},
   "source": [
    "#### Clustering 5"
   ]
  },
  {
   "cell_type": "code",
   "execution_count": null,
   "metadata": {},
   "outputs": [],
   "source": [
    "cluster5 = toronto_merged.loc[toronto_merged['Cluster Labels'] == 4, toronto_merged.columns[[1] + list(range(5, toronto_merged.shape[1]))]]"
   ]
  },
  {
   "cell_type": "code",
   "execution_count": null,
   "metadata": {},
   "outputs": [],
   "source": [
    "cluster5[cluster5.columns[:5]]"
   ]
  },
  {
   "cell_type": "markdown",
   "metadata": {},
   "source": [
    "## Conclusion\n",
    "\n",
    "In my attempts to create a good clusterings of toronto's neighborhood using kmeans, I found the best k as 4. I used various feature engineering such as one hot encoding, dimensional reduction, etc. And found the prefered k using silhouette analysis.\n",
    "\n",
    "By oberserving the clustering, One can see that the clustering make sense. For example, cluster 1 is geologically on the east and cluster 3 is geologically on the west, most common venue for cluster 3 are coffee shop and cafe, etc.\n"
   ]
  },
  {
   "cell_type": "code",
   "execution_count": null,
   "metadata": {},
   "outputs": [],
   "source": []
  }
 ],
 "metadata": {
  "kernelspec": {
   "display_name": "Python 3",
   "language": "python",
   "name": "python3"
  },
  "language_info": {
   "codemirror_mode": {
    "name": "ipython",
    "version": 3
   },
   "file_extension": ".py",
   "mimetype": "text/x-python",
   "name": "python",
   "nbconvert_exporter": "python",
   "pygments_lexer": "ipython3",
   "version": "3.7.3"
  }
 },
 "nbformat": 4,
 "nbformat_minor": 2
}
